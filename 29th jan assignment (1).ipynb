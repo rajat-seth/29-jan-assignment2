{
 "cells": [
  {
   "cell_type": "markdown",
   "id": "e4743afd-3fae-4506-ad45-6636f8b3397b",
   "metadata": {},
   "source": [
    "Q1) Guido van rossum\n",
    "Q2) Object oriented programming and structured programming\n",
    "Q3) Yes paython is a case sensitive language\n",
    "Q4) .pyi\n",
    "Q5) Interpreted\n",
    "Q6) a module,a function body,and a class definition\n",
    "Q7) # character\n",
    "Q8) sys.version\n",
    "Q9) lambda\n",
    "Q10) pip installed pakages\n",
    "Q11) print(),type(),sorted()\n",
    "Q12) 79\n",
    "Q13) data science,web development\n",
    "Q14) It involves private heap containg all data structures.\n",
    "Q15) Paython can we directly installed from the paython website and to set up path move inside directory create the destination folder and implement installation after building the system.\n",
    "Q16) yes\n"
   ]
  }
 ],
 "metadata": {
  "kernelspec": {
   "display_name": "Python 3 (ipykernel)",
   "language": "python",
   "name": "python3"
  },
  "language_info": {
   "codemirror_mode": {
    "name": "ipython",
    "version": 3
   },
   "file_extension": ".py",
   "mimetype": "text/x-python",
   "name": "python",
   "nbconvert_exporter": "python",
   "pygments_lexer": "ipython3",
   "version": "3.10.8"
  }
 },
 "nbformat": 4,
 "nbformat_minor": 5
}
